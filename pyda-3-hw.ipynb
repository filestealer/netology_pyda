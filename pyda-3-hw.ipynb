{
 "cells": [
  {
   "cell_type": "markdown",
   "metadata": {},
   "source": [
    "## Задание 1"
   ]
  },
  {
   "cell_type": "markdown",
   "metadata": {},
   "source": [
    "Дан список вида:"
   ]
  },
  {
   "cell_type": "code",
   "execution_count": 7,
   "metadata": {},
   "outputs": [
    {
     "data": {
      "text/plain": [
       "103"
      ]
     },
     "execution_count": 7,
     "metadata": {},
     "output_type": "execute_result"
    }
   ],
   "source": [
    "data = [\n",
    "    [13, 25, 23, 34],\n",
    "    [45, 32, 44, 47],\n",
    "    [12, 33, 23, 95],\n",
    "    [13, 53, 34, 35]\n",
    "]\n",
    "\n",
    "\n",
    "def sum_d(arr):\n",
    "    s = 0\n",
    "    for row in enumerate(arr):\n",
    "        s += row[1][row[0]]\n",
    "    return s\n",
    "\n",
    "sum_d(data)"
   ]
  },
  {
   "cell_type": "markdown",
   "metadata": {},
   "source": [
    "Напишите функцию, которая возвращает сумму элементов на диагонали. Т. е. 13+32+23+35."
   ]
  },
  {
   "cell_type": "markdown",
   "metadata": {},
   "source": [
    "## Задание 2"
   ]
  },
  {
   "cell_type": "markdown",
   "metadata": {},
   "source": [
    "Дан список чисел, часть из которых имеют строковый тип или содержат буквы. Напишите функцию, которая возвращает сумму квадратов элементов, которые могут быть числами."
   ]
  },
  {
   "cell_type": "code",
   "execution_count": 27,
   "metadata": {},
   "outputs": [
    {
     "data": {
      "text/plain": [
       "430"
      ]
     },
     "execution_count": 27,
     "metadata": {},
     "output_type": "execute_result"
    }
   ],
   "source": [
    "data = [1, '5', 'abc', 20, '2']\n",
    "\n",
    "\n",
    "def check_item(i):\n",
    "    try:\n",
    "        if(int(i)):\n",
    "            return True\n",
    "    except ValueError:\n",
    "        return False\n",
    "    \n",
    "    \n",
    "def sum_squares(arr):\n",
    "    sum = 0\n",
    "    for i in arr:\n",
    "        if (check_item(i)):\n",
    "            sum += int(i)**2\n",
    "    return sum\n",
    "\n",
    "sum_squares(data)\n",
    "        \n",
    "\n"
   ]
  },
  {
   "cell_type": "markdown",
   "metadata": {},
   "source": [
    "## Задание 3"
   ]
  },
  {
   "cell_type": "markdown",
   "metadata": {},
   "source": [
    "Напишите функцию, возвращающую сумму первых n чисел Фибоначчи."
   ]
  },
  {
   "cell_type": "code",
   "execution_count": 45,
   "metadata": {},
   "outputs": [
    {
     "name": "stdout",
     "output_type": "stream",
     "text": [
      "Количество чисел Фибоначи10\n",
      "Сумма 10 чисел Фибоначи  88\n"
     ]
    }
   ],
   "source": [
    "# 0, 1, 1, 2, 3, 5, 8, 13, 21, 34, 55, 89, 144, 233, 377, 610\n",
    "\n",
    "n = int(input('Количество чисел Фибоначи'))\n",
    "\n",
    "fib = [0,1]\n",
    "fib\n",
    "# print(fib[2])\n",
    "\n",
    "# i1 = 0\n",
    "# i2 = 1\n",
    "\n",
    "for i in range(2,max_level):\n",
    "    fib.append(fib[i-1]+fib[i-2])\n",
    "    \n",
    "print(f'Сумма {n} чисел Фибоначи ',sum(fib))\n",
    "    \n",
    "# print(fib)\n",
    "# def fib(i,l,level):\n",
    "    \n",
    "    \n",
    "    \n"
   ]
  },
  {
   "cell_type": "markdown",
   "metadata": {},
   "source": [
    "## Задание 4"
   ]
  },
  {
   "cell_type": "markdown",
   "metadata": {},
   "source": [
    "Дан набор данных об обучении студентов на курсе программирования, который содержит: \n",
    "1) имя\n",
    "2) фамилию \n",
    "3) пол \n",
    "4) наличие у студента опыта в программировании \n",
    "5) набор оценок за домашние работы \n",
    "6) оценку за итоговую работу.\n",
    "\n",
    "Напишите программу, которая будет принимать команду от пользователя и возвращать соотвествующий результат.\n",
    "Список команд: \n",
    "1 - вывести на экран среднюю оценку за все ДЗ по группе и вывести на экран среднюю оценку за экзамен по группе;\n",
    "2 - вывести среднюю оценку за ДЗ и за экзамен по группе в разрезе пола студентов\n",
    "3 - вывести среднюю оценку за ДЗ и за экзамен в разрезе наличия опыта в программировании у студентов.\n",
    "\n",
    "Прогрмма должна быть полностью декомпозирована на функции (кроме объявления функций и вызова итоговой функции в реализации ничего быть не должно)."
   ]
  },
  {
   "cell_type": "code",
   "execution_count": 47,
   "metadata": {},
   "outputs": [],
   "source": [
    "students_list = [\n",
    "    {'name': 'Василий', 'surname': 'Теркин', 'sex': 'м', 'program_exp': True, 'grade': [8, 8, 9, 10, 9], 'exam': 9},\n",
    "    {'name': 'Мария', 'surname': 'Павлова', 'sex': 'ж', 'program_exp': True, 'grade': [7, 8, 9, 7, 9], 'exam': 8},\n",
    "    {'name': 'Ирина', 'surname': 'Андреева', 'sex': 'ж', 'program_exp': True, 'grade': [10, 9, 8, 10, 10], 'exam': 10},\n",
    "    {'name': 'Татьяна', 'surname': 'Сидорова', 'sex': 'ж', 'program_exp': True, 'grade': [7, 8, 8, 9, 8], 'exam': 8},\n",
    "    {'name': 'Иван', 'surname': 'Васильев', 'sex': 'ж', 'program_exp': True, 'grade': [9, 8, 9, 6, 9], 'exam': 10},\n",
    "    {'name': 'Роман', 'surname': 'Золотарев', 'sex': 'ж', 'program_exp': False, 'grade': [8, 9, 9, 6, 9], 'exam': 10}\n",
    "]"
   ]
  },
  {
   "cell_type": "code",
   "execution_count": 85,
   "metadata": {},
   "outputs": [
    {
     "name": "stdout",
     "output_type": "stream",
     "text": [
      "Номер задания2\n",
      "средняя оценка за все ДЗ по группе мужчины: 8.8, женщины: 8.36\n",
      "средняя оценка за экзамены по группе мужчины: 9.0, женщины: 9.2\n"
     ]
    }
   ],
   "source": [
    "# students_list\n",
    "\n",
    "def avg_hw():\n",
    "    grade_sum = 0\n",
    "    grade_count = 0\n",
    "    exam_sum = 0\n",
    "    for student in students_list:\n",
    "        grade_sum += sum(student['grade'])\n",
    "        grade_count += len(student['grade'])\n",
    "        exam_sum += student['exam']\n",
    "    avg_grade = grade_sum / grade_count\n",
    "    avg_exam = exam_sum / len(students_list)\n",
    "    print(f'средняя оценка за все ДЗ по группе {avg_grade} средняя оценка за экзамен по группе {avg_exam}')\n",
    "    \n",
    "def avg_hw_by_exp():\n",
    "    grade_m_sum =0 \n",
    "    grade_m_count = 0 \n",
    "    grade_f_sum = 0\n",
    "    grade_f_count = 0\n",
    "    exam_m_sum = 0\n",
    "    exam_f_sum = 0\n",
    "    exam_m_count = 0 \n",
    "    exam_f_count = 0\n",
    "    for student in students_list:\n",
    "        if not student['program_exp']:\n",
    "            grade_f_sum += sum(student['grade'])\n",
    "            grade_f_count += len(student['grade'])\n",
    "            exam_f_sum += student['exam']\n",
    "            exam_f_count += 1\n",
    "        else:\n",
    "            grade_m_sum += sum(student['grade'])\n",
    "            grade_m_count += len(student['grade'])\n",
    "            exam_m_sum += student['exam']\n",
    "            exam_m_count += 1\n",
    "    avg_m_grade = grade_m_sum / grade_m_count\n",
    "    avg_m_exam = exam_m_sum / exam_m_count\n",
    "    avg_f_grade = grade_f_sum / grade_f_count\n",
    "    avg_f_exam = exam_f_sum / exam_f_count\n",
    "    print(f'средняя оценка за все ДЗ по группе с опытом программирования: {avg_m_grade}, без опыта программирования: {avg_f_grade}')\n",
    "    print(f'средняя оценка за экзамены по группе с опытом программирования: {avg_m_exam}, без опыта программирования: {avg_f_exam}')\n",
    "         \n",
    "def avg_hw_by_sex():\n",
    "    grade_m_sum =0 \n",
    "    grade_m_count = 0 \n",
    "    grade_f_sum = 0\n",
    "    grade_f_count = 0\n",
    "    exam_m_sum = 0\n",
    "    exam_f_sum = 0\n",
    "    exam_m_count = 0 \n",
    "    exam_f_count = 0\n",
    "    \n",
    "\n",
    "    for student in students_list:\n",
    "        if student['sex'] == 'ж':\n",
    "            grade_f_sum += sum(student['grade'])\n",
    "            grade_f_count += len(student['grade'])\n",
    "            exam_f_sum += student['exam']\n",
    "            exam_f_count += 1\n",
    "        else:\n",
    "            grade_m_sum += sum(student['grade'])\n",
    "            grade_m_count += len(student['grade'])\n",
    "            exam_m_sum += student['exam']\n",
    "            exam_m_count += 1\n",
    "    avg_m_grade = grade_m_sum / grade_m_count\n",
    "    avg_m_exam = exam_m_sum / exam_m_count\n",
    "    avg_f_grade = grade_f_sum / grade_f_count\n",
    "    avg_f_exam = exam_f_sum / exam_f_count\n",
    "    print(f'средняя оценка за все ДЗ по группе мужчины: {avg_m_grade}, женщины: {avg_f_grade}')\n",
    "    print(f'средняя оценка за экзамены по группе мужчины: {avg_m_exam}, женщины: {avg_f_exam}')\n",
    "         \n",
    "        \n",
    "\n",
    "task = int(input('Номер задания'))\n",
    "\n",
    "\n",
    "if task == 1:\n",
    "    avg_hw()\n",
    "elif task == 2:\n",
    "    avg_hw_by_sex()\n",
    "elif task == 3:\n",
    "    avg_hw_by_exp()\n",
    "else:\n",
    "    print('Введите 1 или 2 или 3')\n",
    "    \n",
    "\n"
   ]
  },
  {
   "cell_type": "code",
   "execution_count": 83,
   "metadata": {},
   "outputs": [
    {
     "data": {
      "text/plain": [
       "3"
      ]
     },
     "execution_count": 83,
     "metadata": {},
     "output_type": "execute_result"
    }
   ],
   "source": []
  },
  {
   "cell_type": "code",
   "execution_count": null,
   "metadata": {},
   "outputs": [],
   "source": []
  }
 ],
 "metadata": {
  "kernelspec": {
   "display_name": "Python 3",
   "language": "python",
   "name": "python3"
  },
  "language_info": {
   "codemirror_mode": {
    "name": "ipython",
    "version": 3
   },
   "file_extension": ".py",
   "mimetype": "text/x-python",
   "name": "python",
   "nbconvert_exporter": "python",
   "pygments_lexer": "ipython3",
   "version": "3.7.3"
  }
 },
 "nbformat": 4,
 "nbformat_minor": 2
}
